{
 "cells": [
  {
   "attachments": {},
   "cell_type": "markdown",
   "metadata": {},
   "source": [
    "### Return song from cluster"
   ]
  },
  {
   "cell_type": "code",
   "execution_count": null,
   "metadata": {},
   "outputs": [],
   "source": [
    "# retrieve song from cluster (dataframe)"
   ]
  },
  {
   "cell_type": "code",
   "execution_count": 2,
   "metadata": {},
   "outputs": [],
   "source": [
    "def getClusterIds(df):\n",
    "    # Normalize the data\n",
    "    scaler = StandardScaler()\n",
    "    X_normalized = scaler.fit_transform(df[[\"danceability\", \"energy\", \"loudness\", \"speechiness\", \"acousticness\", \"instrumentalness\", \"liveness\", \"valence\", \"tempo\"]])\n",
    "    # df_normalized = pd.DataFrame(X_normalized, columns=[\"danceability\", \"energy\",  \"loudness\", \"speechiness\", \"acousticness\", \"instrumentalness\", \"liveness\", \"valence\", \"tempo\"])\n",
    "\n",
    "    # Perform PCA\n",
    "    pca = PCA(n_components=9)\n",
    "    pca.fit(X_normalized)\n",
    "    X_pca = pca.transform(X_normalized)\n",
    "\n",
    "    # Predict clusters using KMeans\n",
    "    kmeans = KMeans(n_clusters=50, n_init=10) # TODO: Find optimal number of clusters using an elbow graph\n",
    "    kmeans.fit(X_pca)\n",
    "    cluster_ids = kmeans.predict(X_pca)\n",
    "    return cluster_ids"
   ]
  },
  {
   "cell_type": "code",
   "execution_count": null,
   "metadata": {},
   "outputs": [],
   "source": [
    "df2 = pd.read_csv('features_clustered.csv')"
   ]
  },
  {
   "cell_type": "code",
   "execution_count": null,
   "metadata": {},
   "outputs": [],
   "source": [
    "# # - Get cluster id\n",
    "df2.loc[0] = inpt_features[0]\n",
    "inpt_cluster = getClusterIds(df2)[0]\n",
    "# - Get songs in cluster\n",
    "songs_in_cluster = df2[df2[\"cluster\"] == inpt_cluster][\"id\"].values.tolist()\n",
    "song_names = sp.tracks(songs_in_cluster[0:10])[\"tracks\"]\n",
    "song_names_legible = [i[\"name\"] + ' - ' + i[\"artists\"][0][\"name\"] for i in song_names]\n",
    "song_names_legible"
   ]
  }
 ],
 "metadata": {
  "kernelspec": {
   "display_name": "Python 3",
   "language": "python",
   "name": "python3"
  },
  "language_info": {
   "codemirror_mode": {
    "name": "ipython",
    "version": 3
   },
   "file_extension": ".py",
   "mimetype": "text/x-python",
   "name": "python",
   "nbconvert_exporter": "python",
   "pygments_lexer": "ipython3",
   "version": "3.11.2"
  },
  "orig_nbformat": 4
 },
 "nbformat": 4,
 "nbformat_minor": 2
}
