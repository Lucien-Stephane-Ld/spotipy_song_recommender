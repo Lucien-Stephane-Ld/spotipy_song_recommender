{
 "cells": [
  {
   "cell_type": "code",
   "execution_count": 1,
   "metadata": {},
   "outputs": [],
   "source": [
    "import spotipy\n",
    "from spotipy.oauth2 import SpotifyClientCredentials\n",
    "sp = spotipy.Spotify(client_credentials_manager=SpotifyClientCredentials())\n",
    "import json\n",
    "import pandas as pd\n",
    "import pprint"
   ]
  },
  {
   "cell_type": "code",
   "execution_count": 2,
   "metadata": {},
   "outputs": [],
   "source": [
    "import numpy as np\n",
    "from plotly import express as px\n",
    "from sklearn.cluster import KMeans\n",
    "from sklearn.preprocessing import OneHotEncoder\n",
    "from sklearn.decomposition import PCA\n",
    "from sklearn.preprocessing import StandardScaler\n",
    "from matplotlib import pyplot as plt"
   ]
  },
  {
   "cell_type": "code",
   "execution_count": 3,
   "metadata": {},
   "outputs": [],
   "source": [
    "# note : the current databases are built with the following columns \n",
    "# [\"danceability\",\"energy\",\"loudness\",\"speechiness\",\"acousticness\",\n",
    "#    \"instrumentalness\",\"liveness\",\"valence\",\"tempo\",\"id\",\"duration_ms\"]\n",
    "# we could add the mode "
   ]
  },
  {
   "attachments": {},
   "cell_type": "markdown",
   "metadata": {},
   "source": [
    "## Clustering"
   ]
  },
  {
   "cell_type": "code",
   "execution_count": 4,
   "metadata": {},
   "outputs": [
    {
     "data": {
      "text/html": [
       "<div>\n",
       "<style scoped>\n",
       "    .dataframe tbody tr th:only-of-type {\n",
       "        vertical-align: middle;\n",
       "    }\n",
       "\n",
       "    .dataframe tbody tr th {\n",
       "        vertical-align: top;\n",
       "    }\n",
       "\n",
       "    .dataframe thead th {\n",
       "        text-align: right;\n",
       "    }\n",
       "</style>\n",
       "<table border=\"1\" class=\"dataframe\">\n",
       "  <thead>\n",
       "    <tr style=\"text-align: right;\">\n",
       "      <th></th>\n",
       "      <th>danceability</th>\n",
       "      <th>energy</th>\n",
       "      <th>loudness</th>\n",
       "      <th>speechiness</th>\n",
       "      <th>acousticness</th>\n",
       "      <th>instrumentalness</th>\n",
       "      <th>liveness</th>\n",
       "      <th>valence</th>\n",
       "      <th>tempo</th>\n",
       "      <th>id</th>\n",
       "      <th>duration_ms</th>\n",
       "    </tr>\n",
       "  </thead>\n",
       "  <tbody>\n",
       "    <tr>\n",
       "      <th>0</th>\n",
       "      <td>0.670</td>\n",
       "      <td>0.750</td>\n",
       "      <td>-4.895</td>\n",
       "      <td>0.1730</td>\n",
       "      <td>0.194000</td>\n",
       "      <td>0.000000</td>\n",
       "      <td>0.3690</td>\n",
       "      <td>0.526</td>\n",
       "      <td>77.045</td>\n",
       "      <td>6hZPajczr6rZV0BoiVaL9G</td>\n",
       "      <td>229738</td>\n",
       "    </tr>\n",
       "    <tr>\n",
       "      <th>1</th>\n",
       "      <td>0.631</td>\n",
       "      <td>0.743</td>\n",
       "      <td>-4.353</td>\n",
       "      <td>0.0285</td>\n",
       "      <td>0.123000</td>\n",
       "      <td>0.000000</td>\n",
       "      <td>0.1310</td>\n",
       "      <td>0.709</td>\n",
       "      <td>134.961</td>\n",
       "      <td>32s2XKjyXifmlGfU2tkT8y</td>\n",
       "      <td>178187</td>\n",
       "    </tr>\n",
       "    <tr>\n",
       "      <th>2</th>\n",
       "      <td>0.395</td>\n",
       "      <td>0.988</td>\n",
       "      <td>-1.936</td>\n",
       "      <td>0.1630</td>\n",
       "      <td>0.000748</td>\n",
       "      <td>0.000536</td>\n",
       "      <td>0.2410</td>\n",
       "      <td>0.327</td>\n",
       "      <td>152.974</td>\n",
       "      <td>7qNC8YKkXrzdKvcpL3xra6</td>\n",
       "      <td>165280</td>\n",
       "    </tr>\n",
       "    <tr>\n",
       "      <th>3</th>\n",
       "      <td>0.603</td>\n",
       "      <td>0.457</td>\n",
       "      <td>-5.384</td>\n",
       "      <td>0.2970</td>\n",
       "      <td>0.526000</td>\n",
       "      <td>0.000000</td>\n",
       "      <td>0.0905</td>\n",
       "      <td>0.455</td>\n",
       "      <td>73.724</td>\n",
       "      <td>5IvdLxVB8gwwcgnEkXSSW2</td>\n",
       "      <td>242972</td>\n",
       "    </tr>\n",
       "    <tr>\n",
       "      <th>4</th>\n",
       "      <td>0.547</td>\n",
       "      <td>0.758</td>\n",
       "      <td>-4.780</td>\n",
       "      <td>0.0285</td>\n",
       "      <td>0.307000</td>\n",
       "      <td>0.000001</td>\n",
       "      <td>0.1860</td>\n",
       "      <td>0.308</td>\n",
       "      <td>87.928</td>\n",
       "      <td>1iQ1B8aUtGMdsezQhCTgMQ</td>\n",
       "      <td>195960</td>\n",
       "    </tr>\n",
       "    <tr>\n",
       "      <th>...</th>\n",
       "      <td>...</td>\n",
       "      <td>...</td>\n",
       "      <td>...</td>\n",
       "      <td>...</td>\n",
       "      <td>...</td>\n",
       "      <td>...</td>\n",
       "      <td>...</td>\n",
       "      <td>...</td>\n",
       "      <td>...</td>\n",
       "      <td>...</td>\n",
       "      <td>...</td>\n",
       "    </tr>\n",
       "    <tr>\n",
       "      <th>1086</th>\n",
       "      <td>0.659</td>\n",
       "      <td>0.760</td>\n",
       "      <td>-2.564</td>\n",
       "      <td>0.1510</td>\n",
       "      <td>0.237000</td>\n",
       "      <td>0.000000</td>\n",
       "      <td>0.1480</td>\n",
       "      <td>0.742</td>\n",
       "      <td>119.849</td>\n",
       "      <td>0Yc1PcFl82lC2w3Bu4fXGP</td>\n",
       "      <td>175800</td>\n",
       "    </tr>\n",
       "    <tr>\n",
       "      <th>1087</th>\n",
       "      <td>0.616</td>\n",
       "      <td>0.810</td>\n",
       "      <td>-6.190</td>\n",
       "      <td>0.3740</td>\n",
       "      <td>0.090200</td>\n",
       "      <td>0.000000</td>\n",
       "      <td>0.4250</td>\n",
       "      <td>0.703</td>\n",
       "      <td>121.024</td>\n",
       "      <td>1ztFzSOgRMVTMOE8r0Jmlp</td>\n",
       "      <td>176692</td>\n",
       "    </tr>\n",
       "    <tr>\n",
       "      <th>1088</th>\n",
       "      <td>0.653</td>\n",
       "      <td>0.835</td>\n",
       "      <td>-5.769</td>\n",
       "      <td>0.2920</td>\n",
       "      <td>0.174000</td>\n",
       "      <td>0.000000</td>\n",
       "      <td>0.3060</td>\n",
       "      <td>0.515</td>\n",
       "      <td>135.041</td>\n",
       "      <td>6CZpEC9kyyCJWWZKPnviXY</td>\n",
       "      <td>233267</td>\n",
       "    </tr>\n",
       "    <tr>\n",
       "      <th>1089</th>\n",
       "      <td>0.633</td>\n",
       "      <td>0.813</td>\n",
       "      <td>-5.025</td>\n",
       "      <td>0.1540</td>\n",
       "      <td>0.118000</td>\n",
       "      <td>0.000000</td>\n",
       "      <td>0.1330</td>\n",
       "      <td>0.782</td>\n",
       "      <td>178.097</td>\n",
       "      <td>6L4okhXpRc3yFh5lhGWI9X</td>\n",
       "      <td>154547</td>\n",
       "    </tr>\n",
       "    <tr>\n",
       "      <th>1090</th>\n",
       "      <td>0.856</td>\n",
       "      <td>0.694</td>\n",
       "      <td>-4.393</td>\n",
       "      <td>0.1690</td>\n",
       "      <td>0.371000</td>\n",
       "      <td>0.000000</td>\n",
       "      <td>0.1090</td>\n",
       "      <td>0.489</td>\n",
       "      <td>122.080</td>\n",
       "      <td>0dbTQYW3Ad1FTzIA9t90E8</td>\n",
       "      <td>324189</td>\n",
       "    </tr>\n",
       "  </tbody>\n",
       "</table>\n",
       "<p>1091 rows × 11 columns</p>\n",
       "</div>"
      ],
      "text/plain": [
       "      danceability  energy  loudness  speechiness  acousticness  \\\n",
       "0            0.670   0.750    -4.895       0.1730      0.194000   \n",
       "1            0.631   0.743    -4.353       0.0285      0.123000   \n",
       "2            0.395   0.988    -1.936       0.1630      0.000748   \n",
       "3            0.603   0.457    -5.384       0.2970      0.526000   \n",
       "4            0.547   0.758    -4.780       0.0285      0.307000   \n",
       "...            ...     ...       ...          ...           ...   \n",
       "1086         0.659   0.760    -2.564       0.1510      0.237000   \n",
       "1087         0.616   0.810    -6.190       0.3740      0.090200   \n",
       "1088         0.653   0.835    -5.769       0.2920      0.174000   \n",
       "1089         0.633   0.813    -5.025       0.1540      0.118000   \n",
       "1090         0.856   0.694    -4.393       0.1690      0.371000   \n",
       "\n",
       "      instrumentalness  liveness  valence    tempo                      id  \\\n",
       "0             0.000000    0.3690    0.526   77.045  6hZPajczr6rZV0BoiVaL9G   \n",
       "1             0.000000    0.1310    0.709  134.961  32s2XKjyXifmlGfU2tkT8y   \n",
       "2             0.000536    0.2410    0.327  152.974  7qNC8YKkXrzdKvcpL3xra6   \n",
       "3             0.000000    0.0905    0.455   73.724  5IvdLxVB8gwwcgnEkXSSW2   \n",
       "4             0.000001    0.1860    0.308   87.928  1iQ1B8aUtGMdsezQhCTgMQ   \n",
       "...                ...       ...      ...      ...                     ...   \n",
       "1086          0.000000    0.1480    0.742  119.849  0Yc1PcFl82lC2w3Bu4fXGP   \n",
       "1087          0.000000    0.4250    0.703  121.024  1ztFzSOgRMVTMOE8r0Jmlp   \n",
       "1088          0.000000    0.3060    0.515  135.041  6CZpEC9kyyCJWWZKPnviXY   \n",
       "1089          0.000000    0.1330    0.782  178.097  6L4okhXpRc3yFh5lhGWI9X   \n",
       "1090          0.000000    0.1090    0.489  122.080  0dbTQYW3Ad1FTzIA9t90E8   \n",
       "\n",
       "      duration_ms  \n",
       "0          229738  \n",
       "1          178187  \n",
       "2          165280  \n",
       "3          242972  \n",
       "4          195960  \n",
       "...           ...  \n",
       "1086       175800  \n",
       "1087       176692  \n",
       "1088       233267  \n",
       "1089       154547  \n",
       "1090       324189  \n",
       "\n",
       "[1091 rows x 11 columns]"
      ]
     },
     "execution_count": 4,
     "metadata": {},
     "output_type": "execute_result"
    }
   ],
   "source": [
    "data=pd.read_csv(\"audio_features.csv\", sep=',')\n",
    "data.drop(columns=\"Unnamed: 0\", inplace=True)\n",
    "data"
   ]
  },
  {
   "cell_type": "code",
   "execution_count": 5,
   "metadata": {},
   "outputs": [
    {
     "data": {
      "text/html": [
       "<div>\n",
       "<style scoped>\n",
       "    .dataframe tbody tr th:only-of-type {\n",
       "        vertical-align: middle;\n",
       "    }\n",
       "\n",
       "    .dataframe tbody tr th {\n",
       "        vertical-align: top;\n",
       "    }\n",
       "\n",
       "    .dataframe thead th {\n",
       "        text-align: right;\n",
       "    }\n",
       "</style>\n",
       "<table border=\"1\" class=\"dataframe\">\n",
       "  <thead>\n",
       "    <tr style=\"text-align: right;\">\n",
       "      <th></th>\n",
       "      <th>danceability</th>\n",
       "      <th>energy</th>\n",
       "      <th>loudness</th>\n",
       "      <th>speechiness</th>\n",
       "      <th>acousticness</th>\n",
       "      <th>instrumentalness</th>\n",
       "      <th>liveness</th>\n",
       "      <th>valence</th>\n",
       "      <th>tempo</th>\n",
       "      <th>duration_ms</th>\n",
       "    </tr>\n",
       "    <tr>\n",
       "      <th>id</th>\n",
       "      <th></th>\n",
       "      <th></th>\n",
       "      <th></th>\n",
       "      <th></th>\n",
       "      <th></th>\n",
       "      <th></th>\n",
       "      <th></th>\n",
       "      <th></th>\n",
       "      <th></th>\n",
       "      <th></th>\n",
       "    </tr>\n",
       "  </thead>\n",
       "  <tbody>\n",
       "    <tr>\n",
       "      <th>6hZPajczr6rZV0BoiVaL9G</th>\n",
       "      <td>0.670</td>\n",
       "      <td>0.750</td>\n",
       "      <td>-4.895</td>\n",
       "      <td>0.1730</td>\n",
       "      <td>0.194000</td>\n",
       "      <td>0.000000</td>\n",
       "      <td>0.3690</td>\n",
       "      <td>0.526</td>\n",
       "      <td>77.045</td>\n",
       "      <td>229738</td>\n",
       "    </tr>\n",
       "    <tr>\n",
       "      <th>32s2XKjyXifmlGfU2tkT8y</th>\n",
       "      <td>0.631</td>\n",
       "      <td>0.743</td>\n",
       "      <td>-4.353</td>\n",
       "      <td>0.0285</td>\n",
       "      <td>0.123000</td>\n",
       "      <td>0.000000</td>\n",
       "      <td>0.1310</td>\n",
       "      <td>0.709</td>\n",
       "      <td>134.961</td>\n",
       "      <td>178187</td>\n",
       "    </tr>\n",
       "    <tr>\n",
       "      <th>7qNC8YKkXrzdKvcpL3xra6</th>\n",
       "      <td>0.395</td>\n",
       "      <td>0.988</td>\n",
       "      <td>-1.936</td>\n",
       "      <td>0.1630</td>\n",
       "      <td>0.000748</td>\n",
       "      <td>0.000536</td>\n",
       "      <td>0.2410</td>\n",
       "      <td>0.327</td>\n",
       "      <td>152.974</td>\n",
       "      <td>165280</td>\n",
       "    </tr>\n",
       "    <tr>\n",
       "      <th>5IvdLxVB8gwwcgnEkXSSW2</th>\n",
       "      <td>0.603</td>\n",
       "      <td>0.457</td>\n",
       "      <td>-5.384</td>\n",
       "      <td>0.2970</td>\n",
       "      <td>0.526000</td>\n",
       "      <td>0.000000</td>\n",
       "      <td>0.0905</td>\n",
       "      <td>0.455</td>\n",
       "      <td>73.724</td>\n",
       "      <td>242972</td>\n",
       "    </tr>\n",
       "    <tr>\n",
       "      <th>1iQ1B8aUtGMdsezQhCTgMQ</th>\n",
       "      <td>0.547</td>\n",
       "      <td>0.758</td>\n",
       "      <td>-4.780</td>\n",
       "      <td>0.0285</td>\n",
       "      <td>0.307000</td>\n",
       "      <td>0.000001</td>\n",
       "      <td>0.1860</td>\n",
       "      <td>0.308</td>\n",
       "      <td>87.928</td>\n",
       "      <td>195960</td>\n",
       "    </tr>\n",
       "    <tr>\n",
       "      <th>...</th>\n",
       "      <td>...</td>\n",
       "      <td>...</td>\n",
       "      <td>...</td>\n",
       "      <td>...</td>\n",
       "      <td>...</td>\n",
       "      <td>...</td>\n",
       "      <td>...</td>\n",
       "      <td>...</td>\n",
       "      <td>...</td>\n",
       "      <td>...</td>\n",
       "    </tr>\n",
       "    <tr>\n",
       "      <th>0Yc1PcFl82lC2w3Bu4fXGP</th>\n",
       "      <td>0.659</td>\n",
       "      <td>0.760</td>\n",
       "      <td>-2.564</td>\n",
       "      <td>0.1510</td>\n",
       "      <td>0.237000</td>\n",
       "      <td>0.000000</td>\n",
       "      <td>0.1480</td>\n",
       "      <td>0.742</td>\n",
       "      <td>119.849</td>\n",
       "      <td>175800</td>\n",
       "    </tr>\n",
       "    <tr>\n",
       "      <th>1ztFzSOgRMVTMOE8r0Jmlp</th>\n",
       "      <td>0.616</td>\n",
       "      <td>0.810</td>\n",
       "      <td>-6.190</td>\n",
       "      <td>0.3740</td>\n",
       "      <td>0.090200</td>\n",
       "      <td>0.000000</td>\n",
       "      <td>0.4250</td>\n",
       "      <td>0.703</td>\n",
       "      <td>121.024</td>\n",
       "      <td>176692</td>\n",
       "    </tr>\n",
       "    <tr>\n",
       "      <th>6CZpEC9kyyCJWWZKPnviXY</th>\n",
       "      <td>0.653</td>\n",
       "      <td>0.835</td>\n",
       "      <td>-5.769</td>\n",
       "      <td>0.2920</td>\n",
       "      <td>0.174000</td>\n",
       "      <td>0.000000</td>\n",
       "      <td>0.3060</td>\n",
       "      <td>0.515</td>\n",
       "      <td>135.041</td>\n",
       "      <td>233267</td>\n",
       "    </tr>\n",
       "    <tr>\n",
       "      <th>6L4okhXpRc3yFh5lhGWI9X</th>\n",
       "      <td>0.633</td>\n",
       "      <td>0.813</td>\n",
       "      <td>-5.025</td>\n",
       "      <td>0.1540</td>\n",
       "      <td>0.118000</td>\n",
       "      <td>0.000000</td>\n",
       "      <td>0.1330</td>\n",
       "      <td>0.782</td>\n",
       "      <td>178.097</td>\n",
       "      <td>154547</td>\n",
       "    </tr>\n",
       "    <tr>\n",
       "      <th>0dbTQYW3Ad1FTzIA9t90E8</th>\n",
       "      <td>0.856</td>\n",
       "      <td>0.694</td>\n",
       "      <td>-4.393</td>\n",
       "      <td>0.1690</td>\n",
       "      <td>0.371000</td>\n",
       "      <td>0.000000</td>\n",
       "      <td>0.1090</td>\n",
       "      <td>0.489</td>\n",
       "      <td>122.080</td>\n",
       "      <td>324189</td>\n",
       "    </tr>\n",
       "  </tbody>\n",
       "</table>\n",
       "<p>1091 rows × 10 columns</p>\n",
       "</div>"
      ],
      "text/plain": [
       "                        danceability  energy  loudness  speechiness  \\\n",
       "id                                                                    \n",
       "6hZPajczr6rZV0BoiVaL9G         0.670   0.750    -4.895       0.1730   \n",
       "32s2XKjyXifmlGfU2tkT8y         0.631   0.743    -4.353       0.0285   \n",
       "7qNC8YKkXrzdKvcpL3xra6         0.395   0.988    -1.936       0.1630   \n",
       "5IvdLxVB8gwwcgnEkXSSW2         0.603   0.457    -5.384       0.2970   \n",
       "1iQ1B8aUtGMdsezQhCTgMQ         0.547   0.758    -4.780       0.0285   \n",
       "...                              ...     ...       ...          ...   \n",
       "0Yc1PcFl82lC2w3Bu4fXGP         0.659   0.760    -2.564       0.1510   \n",
       "1ztFzSOgRMVTMOE8r0Jmlp         0.616   0.810    -6.190       0.3740   \n",
       "6CZpEC9kyyCJWWZKPnviXY         0.653   0.835    -5.769       0.2920   \n",
       "6L4okhXpRc3yFh5lhGWI9X         0.633   0.813    -5.025       0.1540   \n",
       "0dbTQYW3Ad1FTzIA9t90E8         0.856   0.694    -4.393       0.1690   \n",
       "\n",
       "                        acousticness  instrumentalness  liveness  valence  \\\n",
       "id                                                                          \n",
       "6hZPajczr6rZV0BoiVaL9G      0.194000          0.000000    0.3690    0.526   \n",
       "32s2XKjyXifmlGfU2tkT8y      0.123000          0.000000    0.1310    0.709   \n",
       "7qNC8YKkXrzdKvcpL3xra6      0.000748          0.000536    0.2410    0.327   \n",
       "5IvdLxVB8gwwcgnEkXSSW2      0.526000          0.000000    0.0905    0.455   \n",
       "1iQ1B8aUtGMdsezQhCTgMQ      0.307000          0.000001    0.1860    0.308   \n",
       "...                              ...               ...       ...      ...   \n",
       "0Yc1PcFl82lC2w3Bu4fXGP      0.237000          0.000000    0.1480    0.742   \n",
       "1ztFzSOgRMVTMOE8r0Jmlp      0.090200          0.000000    0.4250    0.703   \n",
       "6CZpEC9kyyCJWWZKPnviXY      0.174000          0.000000    0.3060    0.515   \n",
       "6L4okhXpRc3yFh5lhGWI9X      0.118000          0.000000    0.1330    0.782   \n",
       "0dbTQYW3Ad1FTzIA9t90E8      0.371000          0.000000    0.1090    0.489   \n",
       "\n",
       "                          tempo  duration_ms  \n",
       "id                                            \n",
       "6hZPajczr6rZV0BoiVaL9G   77.045       229738  \n",
       "32s2XKjyXifmlGfU2tkT8y  134.961       178187  \n",
       "7qNC8YKkXrzdKvcpL3xra6  152.974       165280  \n",
       "5IvdLxVB8gwwcgnEkXSSW2   73.724       242972  \n",
       "1iQ1B8aUtGMdsezQhCTgMQ   87.928       195960  \n",
       "...                         ...          ...  \n",
       "0Yc1PcFl82lC2w3Bu4fXGP  119.849       175800  \n",
       "1ztFzSOgRMVTMOE8r0Jmlp  121.024       176692  \n",
       "6CZpEC9kyyCJWWZKPnviXY  135.041       233267  \n",
       "6L4okhXpRc3yFh5lhGWI9X  178.097       154547  \n",
       "0dbTQYW3Ad1FTzIA9t90E8  122.080       324189  \n",
       "\n",
       "[1091 rows x 10 columns]"
      ]
     },
     "execution_count": 5,
     "metadata": {},
     "output_type": "execute_result"
    }
   ],
   "source": [
    "data.set_index(\"id\", inplace=True)\n",
    "data"
   ]
  },
  {
   "cell_type": "code",
   "execution_count": 6,
   "metadata": {},
   "outputs": [
    {
     "data": {
      "text/plain": [
       "array([[ 0.62162706,  0.35199228,  0.68758062, ...,  0.07576189,\n",
       "        -1.45445037, -0.09934238],\n",
       "       [ 0.4081261 ,  0.32418231,  0.79541023, ...,  0.78457574,\n",
       "         0.47232335, -0.40650055],\n",
       "       [-0.88382847,  1.29753113,  1.2762666 , ..., -0.69502477,\n",
       "         1.07158738, -0.48340479],\n",
       "       ...,\n",
       "       [ 0.52856254,  0.68968473,  0.51370041, ...,  0.03315559,\n",
       "         0.47498483, -0.07831542],\n",
       "       [ 0.41907486,  0.60228197,  0.66171743, ...,  1.06732662,\n",
       "         1.90738985, -0.54735561],\n",
       "       [ 1.63986244,  0.12951255,  0.78745232, ..., -0.06755021,\n",
       "         0.04379286,  0.46342839]])"
      ]
     },
     "execution_count": 6,
     "metadata": {},
     "output_type": "execute_result"
    }
   ],
   "source": [
    "scaler = StandardScaler()\n",
    "data_norm = scaler.fit_transform(data)\n",
    "# data_norm is an array - eq. to X_normalized \n",
    "data_norm"
   ]
  },
  {
   "attachments": {},
   "cell_type": "markdown",
   "metadata": {},
   "source": [
    "## Clustering with PCA"
   ]
  },
  {
   "cell_type": "code",
   "execution_count": 7,
   "metadata": {},
   "outputs": [],
   "source": [
    "pca = PCA(n_components=5)"
   ]
  },
  {
   "cell_type": "code",
   "execution_count": 8,
   "metadata": {},
   "outputs": [
    {
     "data": {
      "text/html": [
       "<style>#sk-container-id-1 {color: black;background-color: white;}#sk-container-id-1 pre{padding: 0;}#sk-container-id-1 div.sk-toggleable {background-color: white;}#sk-container-id-1 label.sk-toggleable__label {cursor: pointer;display: block;width: 100%;margin-bottom: 0;padding: 0.3em;box-sizing: border-box;text-align: center;}#sk-container-id-1 label.sk-toggleable__label-arrow:before {content: \"▸\";float: left;margin-right: 0.25em;color: #696969;}#sk-container-id-1 label.sk-toggleable__label-arrow:hover:before {color: black;}#sk-container-id-1 div.sk-estimator:hover label.sk-toggleable__label-arrow:before {color: black;}#sk-container-id-1 div.sk-toggleable__content {max-height: 0;max-width: 0;overflow: hidden;text-align: left;background-color: #f0f8ff;}#sk-container-id-1 div.sk-toggleable__content pre {margin: 0.2em;color: black;border-radius: 0.25em;background-color: #f0f8ff;}#sk-container-id-1 input.sk-toggleable__control:checked~div.sk-toggleable__content {max-height: 200px;max-width: 100%;overflow: auto;}#sk-container-id-1 input.sk-toggleable__control:checked~label.sk-toggleable__label-arrow:before {content: \"▾\";}#sk-container-id-1 div.sk-estimator input.sk-toggleable__control:checked~label.sk-toggleable__label {background-color: #d4ebff;}#sk-container-id-1 div.sk-label input.sk-toggleable__control:checked~label.sk-toggleable__label {background-color: #d4ebff;}#sk-container-id-1 input.sk-hidden--visually {border: 0;clip: rect(1px 1px 1px 1px);clip: rect(1px, 1px, 1px, 1px);height: 1px;margin: -1px;overflow: hidden;padding: 0;position: absolute;width: 1px;}#sk-container-id-1 div.sk-estimator {font-family: monospace;background-color: #f0f8ff;border: 1px dotted black;border-radius: 0.25em;box-sizing: border-box;margin-bottom: 0.5em;}#sk-container-id-1 div.sk-estimator:hover {background-color: #d4ebff;}#sk-container-id-1 div.sk-parallel-item::after {content: \"\";width: 100%;border-bottom: 1px solid gray;flex-grow: 1;}#sk-container-id-1 div.sk-label:hover label.sk-toggleable__label {background-color: #d4ebff;}#sk-container-id-1 div.sk-serial::before {content: \"\";position: absolute;border-left: 1px solid gray;box-sizing: border-box;top: 0;bottom: 0;left: 50%;z-index: 0;}#sk-container-id-1 div.sk-serial {display: flex;flex-direction: column;align-items: center;background-color: white;padding-right: 0.2em;padding-left: 0.2em;position: relative;}#sk-container-id-1 div.sk-item {position: relative;z-index: 1;}#sk-container-id-1 div.sk-parallel {display: flex;align-items: stretch;justify-content: center;background-color: white;position: relative;}#sk-container-id-1 div.sk-item::before, #sk-container-id-1 div.sk-parallel-item::before {content: \"\";position: absolute;border-left: 1px solid gray;box-sizing: border-box;top: 0;bottom: 0;left: 50%;z-index: -1;}#sk-container-id-1 div.sk-parallel-item {display: flex;flex-direction: column;z-index: 1;position: relative;background-color: white;}#sk-container-id-1 div.sk-parallel-item:first-child::after {align-self: flex-end;width: 50%;}#sk-container-id-1 div.sk-parallel-item:last-child::after {align-self: flex-start;width: 50%;}#sk-container-id-1 div.sk-parallel-item:only-child::after {width: 0;}#sk-container-id-1 div.sk-dashed-wrapped {border: 1px dashed gray;margin: 0 0.4em 0.5em 0.4em;box-sizing: border-box;padding-bottom: 0.4em;background-color: white;}#sk-container-id-1 div.sk-label label {font-family: monospace;font-weight: bold;display: inline-block;line-height: 1.2em;}#sk-container-id-1 div.sk-label-container {text-align: center;}#sk-container-id-1 div.sk-container {/* jupyter's `normalize.less` sets `[hidden] { display: none; }` but bootstrap.min.css set `[hidden] { display: none !important; }` so we also need the `!important` here to be able to override the default hidden behavior on the sphinx rendered scikit-learn.org. See: https://github.com/scikit-learn/scikit-learn/issues/21755 */display: inline-block !important;position: relative;}#sk-container-id-1 div.sk-text-repr-fallback {display: none;}</style><div id=\"sk-container-id-1\" class=\"sk-top-container\"><div class=\"sk-text-repr-fallback\"><pre>PCA(n_components=5)</pre><b>In a Jupyter environment, please rerun this cell to show the HTML representation or trust the notebook. <br />On GitHub, the HTML representation is unable to render, please try loading this page with nbviewer.org.</b></div><div class=\"sk-container\" hidden><div class=\"sk-item\"><div class=\"sk-estimator sk-toggleable\"><input class=\"sk-toggleable__control sk-hidden--visually\" id=\"sk-estimator-id-1\" type=\"checkbox\" checked><label for=\"sk-estimator-id-1\" class=\"sk-toggleable__label sk-toggleable__label-arrow\">PCA</label><div class=\"sk-toggleable__content\"><pre>PCA(n_components=5)</pre></div></div></div></div></div>"
      ],
      "text/plain": [
       "PCA(n_components=5)"
      ]
     },
     "execution_count": 8,
     "metadata": {},
     "output_type": "execute_result"
    }
   ],
   "source": [
    "pca.fit(data_norm)"
   ]
  },
  {
   "cell_type": "code",
   "execution_count": 9,
   "metadata": {},
   "outputs": [
    {
     "data": {
      "text/plain": [
       "array([0.30326692, 0.15582257, 0.11276854, 0.10224745, 0.08625554])"
      ]
     },
     "execution_count": 9,
     "metadata": {},
     "output_type": "execute_result"
    }
   ],
   "source": [
    "pca.explained_variance_ratio_"
   ]
  },
  {
   "cell_type": "code",
   "execution_count": 10,
   "metadata": {},
   "outputs": [
    {
     "data": {
      "text/plain": [
       "array([0.30326692, 0.45908949, 0.57185803, 0.67410549, 0.76036102])"
      ]
     },
     "execution_count": 10,
     "metadata": {},
     "output_type": "execute_result"
    }
   ],
   "source": [
    "np.cumsum(pca.explained_variance_ratio_)"
   ]
  },
  {
   "cell_type": "code",
   "execution_count": 11,
   "metadata": {},
   "outputs": [],
   "source": [
    "X_pca = pca.transform(data_norm)"
   ]
  },
  {
   "attachments": {},
   "cell_type": "markdown",
   "metadata": {},
   "source": [
    "## And KMeans"
   ]
  },
  {
   "cell_type": "code",
   "execution_count": 12,
   "metadata": {},
   "outputs": [],
   "source": [
    "kmeans = KMeans(n_clusters=6, n_init=10)"
   ]
  },
  {
   "cell_type": "code",
   "execution_count": 13,
   "metadata": {},
   "outputs": [
    {
     "data": {
      "text/html": [
       "<style>#sk-container-id-2 {color: black;background-color: white;}#sk-container-id-2 pre{padding: 0;}#sk-container-id-2 div.sk-toggleable {background-color: white;}#sk-container-id-2 label.sk-toggleable__label {cursor: pointer;display: block;width: 100%;margin-bottom: 0;padding: 0.3em;box-sizing: border-box;text-align: center;}#sk-container-id-2 label.sk-toggleable__label-arrow:before {content: \"▸\";float: left;margin-right: 0.25em;color: #696969;}#sk-container-id-2 label.sk-toggleable__label-arrow:hover:before {color: black;}#sk-container-id-2 div.sk-estimator:hover label.sk-toggleable__label-arrow:before {color: black;}#sk-container-id-2 div.sk-toggleable__content {max-height: 0;max-width: 0;overflow: hidden;text-align: left;background-color: #f0f8ff;}#sk-container-id-2 div.sk-toggleable__content pre {margin: 0.2em;color: black;border-radius: 0.25em;background-color: #f0f8ff;}#sk-container-id-2 input.sk-toggleable__control:checked~div.sk-toggleable__content {max-height: 200px;max-width: 100%;overflow: auto;}#sk-container-id-2 input.sk-toggleable__control:checked~label.sk-toggleable__label-arrow:before {content: \"▾\";}#sk-container-id-2 div.sk-estimator input.sk-toggleable__control:checked~label.sk-toggleable__label {background-color: #d4ebff;}#sk-container-id-2 div.sk-label input.sk-toggleable__control:checked~label.sk-toggleable__label {background-color: #d4ebff;}#sk-container-id-2 input.sk-hidden--visually {border: 0;clip: rect(1px 1px 1px 1px);clip: rect(1px, 1px, 1px, 1px);height: 1px;margin: -1px;overflow: hidden;padding: 0;position: absolute;width: 1px;}#sk-container-id-2 div.sk-estimator {font-family: monospace;background-color: #f0f8ff;border: 1px dotted black;border-radius: 0.25em;box-sizing: border-box;margin-bottom: 0.5em;}#sk-container-id-2 div.sk-estimator:hover {background-color: #d4ebff;}#sk-container-id-2 div.sk-parallel-item::after {content: \"\";width: 100%;border-bottom: 1px solid gray;flex-grow: 1;}#sk-container-id-2 div.sk-label:hover label.sk-toggleable__label {background-color: #d4ebff;}#sk-container-id-2 div.sk-serial::before {content: \"\";position: absolute;border-left: 1px solid gray;box-sizing: border-box;top: 0;bottom: 0;left: 50%;z-index: 0;}#sk-container-id-2 div.sk-serial {display: flex;flex-direction: column;align-items: center;background-color: white;padding-right: 0.2em;padding-left: 0.2em;position: relative;}#sk-container-id-2 div.sk-item {position: relative;z-index: 1;}#sk-container-id-2 div.sk-parallel {display: flex;align-items: stretch;justify-content: center;background-color: white;position: relative;}#sk-container-id-2 div.sk-item::before, #sk-container-id-2 div.sk-parallel-item::before {content: \"\";position: absolute;border-left: 1px solid gray;box-sizing: border-box;top: 0;bottom: 0;left: 50%;z-index: -1;}#sk-container-id-2 div.sk-parallel-item {display: flex;flex-direction: column;z-index: 1;position: relative;background-color: white;}#sk-container-id-2 div.sk-parallel-item:first-child::after {align-self: flex-end;width: 50%;}#sk-container-id-2 div.sk-parallel-item:last-child::after {align-self: flex-start;width: 50%;}#sk-container-id-2 div.sk-parallel-item:only-child::after {width: 0;}#sk-container-id-2 div.sk-dashed-wrapped {border: 1px dashed gray;margin: 0 0.4em 0.5em 0.4em;box-sizing: border-box;padding-bottom: 0.4em;background-color: white;}#sk-container-id-2 div.sk-label label {font-family: monospace;font-weight: bold;display: inline-block;line-height: 1.2em;}#sk-container-id-2 div.sk-label-container {text-align: center;}#sk-container-id-2 div.sk-container {/* jupyter's `normalize.less` sets `[hidden] { display: none; }` but bootstrap.min.css set `[hidden] { display: none !important; }` so we also need the `!important` here to be able to override the default hidden behavior on the sphinx rendered scikit-learn.org. See: https://github.com/scikit-learn/scikit-learn/issues/21755 */display: inline-block !important;position: relative;}#sk-container-id-2 div.sk-text-repr-fallback {display: none;}</style><div id=\"sk-container-id-2\" class=\"sk-top-container\"><div class=\"sk-text-repr-fallback\"><pre>KMeans(n_clusters=6, n_init=10)</pre><b>In a Jupyter environment, please rerun this cell to show the HTML representation or trust the notebook. <br />On GitHub, the HTML representation is unable to render, please try loading this page with nbviewer.org.</b></div><div class=\"sk-container\" hidden><div class=\"sk-item\"><div class=\"sk-estimator sk-toggleable\"><input class=\"sk-toggleable__control sk-hidden--visually\" id=\"sk-estimator-id-2\" type=\"checkbox\" checked><label for=\"sk-estimator-id-2\" class=\"sk-toggleable__label sk-toggleable__label-arrow\">KMeans</label><div class=\"sk-toggleable__content\"><pre>KMeans(n_clusters=6, n_init=10)</pre></div></div></div></div></div>"
      ],
      "text/plain": [
       "KMeans(n_clusters=6, n_init=10)"
      ]
     },
     "execution_count": 13,
     "metadata": {},
     "output_type": "execute_result"
    }
   ],
   "source": [
    "kmeans.fit(X_pca)\n",
    "# try with .fit_predict ?"
   ]
  },
  {
   "cell_type": "code",
   "execution_count": 14,
   "metadata": {},
   "outputs": [
    {
     "data": {
      "text/plain": [
       "3537.2442352968083"
      ]
     },
     "execution_count": 14,
     "metadata": {},
     "output_type": "execute_result"
    }
   ],
   "source": [
    "kmeans.inertia_"
   ]
  },
  {
   "cell_type": "code",
   "execution_count": 15,
   "metadata": {},
   "outputs": [
    {
     "data": {
      "text/plain": [
       "array([[-0.82491224, -0.63240309,  0.42360663,  0.28741159, -0.21303945],\n",
       "       [ 0.35636201,  1.90009508, -1.80094028,  0.15848798, -1.52302161],\n",
       "       [ 1.99992568, -0.97746671,  0.02928545, -0.32574583, -0.33007585],\n",
       "       [-0.70194341,  1.0344638 ,  0.35332703, -0.4932455 ,  0.26948948],\n",
       "       [ 5.01344716,  0.97975882,  0.49761442,  0.41063438,  0.55496518],\n",
       "       [-0.79824506, -0.73138817, -1.92977525,  0.54706741,  1.13568404]])"
      ]
     },
     "execution_count": 15,
     "metadata": {},
     "output_type": "execute_result"
    }
   ],
   "source": [
    "kmeans.cluster_centers_"
   ]
  },
  {
   "cell_type": "code",
   "execution_count": 16,
   "metadata": {},
   "outputs": [
    {
     "data": {
      "text/plain": [
       "47"
      ]
     },
     "execution_count": 16,
     "metadata": {},
     "output_type": "execute_result"
    }
   ],
   "source": [
    "kmeans.n_iter_"
   ]
  },
  {
   "cell_type": "code",
   "execution_count": 17,
   "metadata": {},
   "outputs": [
    {
     "data": {
      "text/plain": [
       "array([5, 0, 3, ..., 5, 3, 0], dtype=int32)"
      ]
     },
     "execution_count": 17,
     "metadata": {},
     "output_type": "execute_result"
    }
   ],
   "source": [
    "kmeans.labels_"
   ]
  },
  {
   "cell_type": "code",
   "execution_count": 18,
   "metadata": {},
   "outputs": [
    {
     "data": {
      "text/plain": [
       "1091"
      ]
     },
     "execution_count": 18,
     "metadata": {},
     "output_type": "execute_result"
    }
   ],
   "source": [
    "len(kmeans.labels_)"
   ]
  },
  {
   "cell_type": "code",
   "execution_count": 19,
   "metadata": {},
   "outputs": [],
   "source": [
    "cluster_ids = kmeans.predict(X_pca)"
   ]
  },
  {
   "cell_type": "code",
   "execution_count": 20,
   "metadata": {},
   "outputs": [],
   "source": [
    "cluster_distances = kmeans.transform(X_pca)"
   ]
  },
  {
   "cell_type": "code",
   "execution_count": 21,
   "metadata": {},
   "outputs": [
    {
     "data": {
      "image/png": "[encoded data removed]",
      "text/plain": [
       "<Figure size 640x480 with 1 Axes>"
      ]
     },
     "metadata": {},
     "output_type": "display_data"
    }
   ],
   "source": [
    "for c in np.unique(cluster_ids):\n",
    "    plt.scatter(X_pca[cluster_ids == c, 0], X_pca[cluster_ids == c, 1], marker='.', s=12)"
   ]
  },
  {
   "cell_type": "code",
   "execution_count": 22,
   "metadata": {},
   "outputs": [
    {
     "data": {
      "text/html": [
       "<div>\n",
       "<style scoped>\n",
       "    .dataframe tbody tr th:only-of-type {\n",
       "        vertical-align: middle;\n",
       "    }\n",
       "\n",
       "    .dataframe tbody tr th {\n",
       "        vertical-align: top;\n",
       "    }\n",
       "\n",
       "    .dataframe thead th {\n",
       "        text-align: right;\n",
       "    }\n",
       "</style>\n",
       "<table border=\"1\" class=\"dataframe\">\n",
       "  <thead>\n",
       "    <tr style=\"text-align: right;\">\n",
       "      <th></th>\n",
       "      <th>danceability</th>\n",
       "      <th>energy</th>\n",
       "      <th>loudness</th>\n",
       "      <th>speechiness</th>\n",
       "      <th>acousticness</th>\n",
       "      <th>instrumentalness</th>\n",
       "      <th>liveness</th>\n",
       "      <th>valence</th>\n",
       "      <th>tempo</th>\n",
       "      <th>duration_ms</th>\n",
       "      <th>cluster</th>\n",
       "    </tr>\n",
       "    <tr>\n",
       "      <th>id</th>\n",
       "      <th></th>\n",
       "      <th></th>\n",
       "      <th></th>\n",
       "      <th></th>\n",
       "      <th></th>\n",
       "      <th></th>\n",
       "      <th></th>\n",
       "      <th></th>\n",
       "      <th></th>\n",
       "      <th></th>\n",
       "      <th></th>\n",
       "    </tr>\n",
       "  </thead>\n",
       "  <tbody>\n",
       "    <tr>\n",
       "      <th>6hZPajczr6rZV0BoiVaL9G</th>\n",
       "      <td>0.670</td>\n",
       "      <td>0.750</td>\n",
       "      <td>-4.895</td>\n",
       "      <td>0.1730</td>\n",
       "      <td>0.194000</td>\n",
       "      <td>0.000000</td>\n",
       "      <td>0.3690</td>\n",
       "      <td>0.526</td>\n",
       "      <td>77.045</td>\n",
       "      <td>229738</td>\n",
       "      <td>5</td>\n",
       "    </tr>\n",
       "    <tr>\n",
       "      <th>32s2XKjyXifmlGfU2tkT8y</th>\n",
       "      <td>0.631</td>\n",
       "      <td>0.743</td>\n",
       "      <td>-4.353</td>\n",
       "      <td>0.0285</td>\n",
       "      <td>0.123000</td>\n",
       "      <td>0.000000</td>\n",
       "      <td>0.1310</td>\n",
       "      <td>0.709</td>\n",
       "      <td>134.961</td>\n",
       "      <td>178187</td>\n",
       "      <td>0</td>\n",
       "    </tr>\n",
       "    <tr>\n",
       "      <th>7qNC8YKkXrzdKvcpL3xra6</th>\n",
       "      <td>0.395</td>\n",
       "      <td>0.988</td>\n",
       "      <td>-1.936</td>\n",
       "      <td>0.1630</td>\n",
       "      <td>0.000748</td>\n",
       "      <td>0.000536</td>\n",
       "      <td>0.2410</td>\n",
       "      <td>0.327</td>\n",
       "      <td>152.974</td>\n",
       "      <td>165280</td>\n",
       "      <td>3</td>\n",
       "    </tr>\n",
       "    <tr>\n",
       "      <th>5IvdLxVB8gwwcgnEkXSSW2</th>\n",
       "      <td>0.603</td>\n",
       "      <td>0.457</td>\n",
       "      <td>-5.384</td>\n",
       "      <td>0.2970</td>\n",
       "      <td>0.526000</td>\n",
       "      <td>0.000000</td>\n",
       "      <td>0.0905</td>\n",
       "      <td>0.455</td>\n",
       "      <td>73.724</td>\n",
       "      <td>242972</td>\n",
       "      <td>5</td>\n",
       "    </tr>\n",
       "    <tr>\n",
       "      <th>1iQ1B8aUtGMdsezQhCTgMQ</th>\n",
       "      <td>0.547</td>\n",
       "      <td>0.758</td>\n",
       "      <td>-4.780</td>\n",
       "      <td>0.0285</td>\n",
       "      <td>0.307000</td>\n",
       "      <td>0.000001</td>\n",
       "      <td>0.1860</td>\n",
       "      <td>0.308</td>\n",
       "      <td>87.928</td>\n",
       "      <td>195960</td>\n",
       "      <td>0</td>\n",
       "    </tr>\n",
       "    <tr>\n",
       "      <th>...</th>\n",
       "      <td>...</td>\n",
       "      <td>...</td>\n",
       "      <td>...</td>\n",
       "      <td>...</td>\n",
       "      <td>...</td>\n",
       "      <td>...</td>\n",
       "      <td>...</td>\n",
       "      <td>...</td>\n",
       "      <td>...</td>\n",
       "      <td>...</td>\n",
       "      <td>...</td>\n",
       "    </tr>\n",
       "    <tr>\n",
       "      <th>0Yc1PcFl82lC2w3Bu4fXGP</th>\n",
       "      <td>0.659</td>\n",
       "      <td>0.760</td>\n",
       "      <td>-2.564</td>\n",
       "      <td>0.1510</td>\n",
       "      <td>0.237000</td>\n",
       "      <td>0.000000</td>\n",
       "      <td>0.1480</td>\n",
       "      <td>0.742</td>\n",
       "      <td>119.849</td>\n",
       "      <td>175800</td>\n",
       "      <td>0</td>\n",
       "    </tr>\n",
       "    <tr>\n",
       "      <th>1ztFzSOgRMVTMOE8r0Jmlp</th>\n",
       "      <td>0.616</td>\n",
       "      <td>0.810</td>\n",
       "      <td>-6.190</td>\n",
       "      <td>0.3740</td>\n",
       "      <td>0.090200</td>\n",
       "      <td>0.000000</td>\n",
       "      <td>0.4250</td>\n",
       "      <td>0.703</td>\n",
       "      <td>121.024</td>\n",
       "      <td>176692</td>\n",
       "      <td>5</td>\n",
       "    </tr>\n",
       "    <tr>\n",
       "      <th>6CZpEC9kyyCJWWZKPnviXY</th>\n",
       "      <td>0.653</td>\n",
       "      <td>0.835</td>\n",
       "      <td>-5.769</td>\n",
       "      <td>0.2920</td>\n",
       "      <td>0.174000</td>\n",
       "      <td>0.000000</td>\n",
       "      <td>0.3060</td>\n",
       "      <td>0.515</td>\n",
       "      <td>135.041</td>\n",
       "      <td>233267</td>\n",
       "      <td>5</td>\n",
       "    </tr>\n",
       "    <tr>\n",
       "      <th>6L4okhXpRc3yFh5lhGWI9X</th>\n",
       "      <td>0.633</td>\n",
       "      <td>0.813</td>\n",
       "      <td>-5.025</td>\n",
       "      <td>0.1540</td>\n",
       "      <td>0.118000</td>\n",
       "      <td>0.000000</td>\n",
       "      <td>0.1330</td>\n",
       "      <td>0.782</td>\n",
       "      <td>178.097</td>\n",
       "      <td>154547</td>\n",
       "      <td>3</td>\n",
       "    </tr>\n",
       "    <tr>\n",
       "      <th>0dbTQYW3Ad1FTzIA9t90E8</th>\n",
       "      <td>0.856</td>\n",
       "      <td>0.694</td>\n",
       "      <td>-4.393</td>\n",
       "      <td>0.1690</td>\n",
       "      <td>0.371000</td>\n",
       "      <td>0.000000</td>\n",
       "      <td>0.1090</td>\n",
       "      <td>0.489</td>\n",
       "      <td>122.080</td>\n",
       "      <td>324189</td>\n",
       "      <td>0</td>\n",
       "    </tr>\n",
       "  </tbody>\n",
       "</table>\n",
       "<p>1091 rows × 11 columns</p>\n",
       "</div>"
      ],
      "text/plain": [
       "                        danceability  energy  loudness  speechiness  \\\n",
       "id                                                                    \n",
       "6hZPajczr6rZV0BoiVaL9G         0.670   0.750    -4.895       0.1730   \n",
       "32s2XKjyXifmlGfU2tkT8y         0.631   0.743    -4.353       0.0285   \n",
       "7qNC8YKkXrzdKvcpL3xra6         0.395   0.988    -1.936       0.1630   \n",
       "5IvdLxVB8gwwcgnEkXSSW2         0.603   0.457    -5.384       0.2970   \n",
       "1iQ1B8aUtGMdsezQhCTgMQ         0.547   0.758    -4.780       0.0285   \n",
       "...                              ...     ...       ...          ...   \n",
       "0Yc1PcFl82lC2w3Bu4fXGP         0.659   0.760    -2.564       0.1510   \n",
       "1ztFzSOgRMVTMOE8r0Jmlp         0.616   0.810    -6.190       0.3740   \n",
       "6CZpEC9kyyCJWWZKPnviXY         0.653   0.835    -5.769       0.2920   \n",
       "6L4okhXpRc3yFh5lhGWI9X         0.633   0.813    -5.025       0.1540   \n",
       "0dbTQYW3Ad1FTzIA9t90E8         0.856   0.694    -4.393       0.1690   \n",
       "\n",
       "                        acousticness  instrumentalness  liveness  valence  \\\n",
       "id                                                                          \n",
       "6hZPajczr6rZV0BoiVaL9G      0.194000          0.000000    0.3690    0.526   \n",
       "32s2XKjyXifmlGfU2tkT8y      0.123000          0.000000    0.1310    0.709   \n",
       "7qNC8YKkXrzdKvcpL3xra6      0.000748          0.000536    0.2410    0.327   \n",
       "5IvdLxVB8gwwcgnEkXSSW2      0.526000          0.000000    0.0905    0.455   \n",
       "1iQ1B8aUtGMdsezQhCTgMQ      0.307000          0.000001    0.1860    0.308   \n",
       "...                              ...               ...       ...      ...   \n",
       "0Yc1PcFl82lC2w3Bu4fXGP      0.237000          0.000000    0.1480    0.742   \n",
       "1ztFzSOgRMVTMOE8r0Jmlp      0.090200          0.000000    0.4250    0.703   \n",
       "6CZpEC9kyyCJWWZKPnviXY      0.174000          0.000000    0.3060    0.515   \n",
       "6L4okhXpRc3yFh5lhGWI9X      0.118000          0.000000    0.1330    0.782   \n",
       "0dbTQYW3Ad1FTzIA9t90E8      0.371000          0.000000    0.1090    0.489   \n",
       "\n",
       "                          tempo  duration_ms  cluster  \n",
       "id                                                     \n",
       "6hZPajczr6rZV0BoiVaL9G   77.045       229738        5  \n",
       "32s2XKjyXifmlGfU2tkT8y  134.961       178187        0  \n",
       "7qNC8YKkXrzdKvcpL3xra6  152.974       165280        3  \n",
       "5IvdLxVB8gwwcgnEkXSSW2   73.724       242972        5  \n",
       "1iQ1B8aUtGMdsezQhCTgMQ   87.928       195960        0  \n",
       "...                         ...          ...      ...  \n",
       "0Yc1PcFl82lC2w3Bu4fXGP  119.849       175800        0  \n",
       "1ztFzSOgRMVTMOE8r0Jmlp  121.024       176692        5  \n",
       "6CZpEC9kyyCJWWZKPnviXY  135.041       233267        5  \n",
       "6L4okhXpRc3yFh5lhGWI9X  178.097       154547        3  \n",
       "0dbTQYW3Ad1FTzIA9t90E8  122.080       324189        0  \n",
       "\n",
       "[1091 rows x 11 columns]"
      ]
     },
     "execution_count": 22,
     "metadata": {},
     "output_type": "execute_result"
    }
   ],
   "source": [
    "# i want to merge the labels with the original dataframe \n",
    "data[\"cluster\"]=kmeans.labels_\n",
    "data "
   ]
  },
  {
   "cell_type": "code",
   "execution_count": 23,
   "metadata": {},
   "outputs": [
    {
     "data": {
      "text/plain": [
       "(400, 61, 163, 307, 56, 104)"
      ]
     },
     "execution_count": 23,
     "metadata": {},
     "output_type": "execute_result"
    }
   ],
   "source": [
    "# and then I want to create dataframes with the songs from each of the clusters\n",
    "C0_songs=pd.DataFrame(data.loc[data[\"cluster\"]==0])\n",
    "C1_songs=pd.DataFrame(data.loc[data[\"cluster\"]==1])\n",
    "C2_songs=pd.DataFrame(data.loc[data[\"cluster\"]==2])\n",
    "C3_songs=pd.DataFrame(data.loc[data[\"cluster\"]==3])\n",
    "C4_songs=pd.DataFrame(data.loc[data[\"cluster\"]==4])\n",
    "C5_songs=pd.DataFrame(data.loc[data[\"cluster\"]==5])\n",
    "len(C0_songs), len(C1_songs), len (C2_songs), len (C3_songs), len (C4_songs), len(C5_songs)"
   ]
  },
  {
   "cell_type": "code",
   "execution_count": 24,
   "metadata": {},
   "outputs": [
    {
     "data": {
      "text/html": [
       "<div>\n",
       "<style scoped>\n",
       "    .dataframe tbody tr th:only-of-type {\n",
       "        vertical-align: middle;\n",
       "    }\n",
       "\n",
       "    .dataframe tbody tr th {\n",
       "        vertical-align: top;\n",
       "    }\n",
       "\n",
       "    .dataframe thead th {\n",
       "        text-align: right;\n",
       "    }\n",
       "</style>\n",
       "<table border=\"1\" class=\"dataframe\">\n",
       "  <thead>\n",
       "    <tr style=\"text-align: right;\">\n",
       "      <th></th>\n",
       "      <th>danceability</th>\n",
       "      <th>energy</th>\n",
       "      <th>loudness</th>\n",
       "      <th>speechiness</th>\n",
       "      <th>acousticness</th>\n",
       "      <th>instrumentalness</th>\n",
       "      <th>liveness</th>\n",
       "      <th>valence</th>\n",
       "      <th>tempo</th>\n",
       "      <th>duration_ms</th>\n",
       "    </tr>\n",
       "  </thead>\n",
       "  <tbody>\n",
       "    <tr>\n",
       "      <th>mean</th>\n",
       "      <td>0.668127</td>\n",
       "      <td>0.730795</td>\n",
       "      <td>-6.48315</td>\n",
       "      <td>0.066071</td>\n",
       "      <td>0.131869</td>\n",
       "      <td>0.034709</td>\n",
       "      <td>0.158809</td>\n",
       "      <td>0.65594</td>\n",
       "      <td>113.20242</td>\n",
       "      <td>238577.2175</td>\n",
       "    </tr>\n",
       "  </tbody>\n",
       "</table>\n",
       "</div>"
      ],
      "text/plain": [
       "      danceability    energy  loudness  speechiness  acousticness  \\\n",
       "mean      0.668127  0.730795  -6.48315     0.066071      0.131869   \n",
       "\n",
       "      instrumentalness  liveness  valence      tempo  duration_ms  \n",
       "mean          0.034709  0.158809  0.65594  113.20242  238577.2175  "
      ]
     },
     "execution_count": 24,
     "metadata": {},
     "output_type": "execute_result"
    }
   ],
   "source": [
    "#in order to extract the means of their song measures \n",
    "C0_means=pd.DataFrame(C0_songs.describe())\n",
    "C0_means.drop(columns=\"cluster\", inplace=True)\n",
    "cluster_0_means=C0_means.iloc[1:2:1]\n",
    "cluster_0_means"
   ]
  },
  {
   "cell_type": "code",
   "execution_count": 25,
   "metadata": {},
   "outputs": [
    {
     "data": {
      "text/html": [
       "<div>\n",
       "<style scoped>\n",
       "    .dataframe tbody tr th:only-of-type {\n",
       "        vertical-align: middle;\n",
       "    }\n",
       "\n",
       "    .dataframe tbody tr th {\n",
       "        vertical-align: top;\n",
       "    }\n",
       "\n",
       "    .dataframe thead th {\n",
       "        text-align: right;\n",
       "    }\n",
       "</style>\n",
       "<table border=\"1\" class=\"dataframe\">\n",
       "  <thead>\n",
       "    <tr style=\"text-align: right;\">\n",
       "      <th></th>\n",
       "      <th>danceability</th>\n",
       "      <th>energy</th>\n",
       "      <th>loudness</th>\n",
       "      <th>speechiness</th>\n",
       "      <th>acousticness</th>\n",
       "      <th>instrumentalness</th>\n",
       "      <th>liveness</th>\n",
       "      <th>valence</th>\n",
       "      <th>tempo</th>\n",
       "      <th>duration_ms</th>\n",
       "    </tr>\n",
       "  </thead>\n",
       "  <tbody>\n",
       "    <tr>\n",
       "      <th>mean</th>\n",
       "      <td>0.396115</td>\n",
       "      <td>0.696361</td>\n",
       "      <td>-9.168508</td>\n",
       "      <td>0.092802</td>\n",
       "      <td>0.271684</td>\n",
       "      <td>0.111098</td>\n",
       "      <td>0.790344</td>\n",
       "      <td>0.351956</td>\n",
       "      <td>121.203066</td>\n",
       "      <td>266726.344262</td>\n",
       "    </tr>\n",
       "  </tbody>\n",
       "</table>\n",
       "</div>"
      ],
      "text/plain": [
       "      danceability    energy  loudness  speechiness  acousticness  \\\n",
       "mean      0.396115  0.696361 -9.168508     0.092802      0.271684   \n",
       "\n",
       "      instrumentalness  liveness   valence       tempo    duration_ms  \n",
       "mean          0.111098  0.790344  0.351956  121.203066  266726.344262  "
      ]
     },
     "execution_count": 25,
     "metadata": {},
     "output_type": "execute_result"
    }
   ],
   "source": [
    "C1_means=pd.DataFrame(C1_songs.describe())\n",
    "C1_means.drop(columns=\"cluster\", inplace=True)\n",
    "cluster_1_means=C1_means.iloc[1:2:1]\n",
    "cluster_1_means"
   ]
  },
  {
   "cell_type": "code",
   "execution_count": 26,
   "metadata": {},
   "outputs": [
    {
     "data": {
      "text/html": [
       "<div>\n",
       "<style scoped>\n",
       "    .dataframe tbody tr th:only-of-type {\n",
       "        vertical-align: middle;\n",
       "    }\n",
       "\n",
       "    .dataframe tbody tr th {\n",
       "        vertical-align: top;\n",
       "    }\n",
       "\n",
       "    .dataframe thead th {\n",
       "        text-align: right;\n",
       "    }\n",
       "</style>\n",
       "<table border=\"1\" class=\"dataframe\">\n",
       "  <thead>\n",
       "    <tr style=\"text-align: right;\">\n",
       "      <th></th>\n",
       "      <th>danceability</th>\n",
       "      <th>energy</th>\n",
       "      <th>loudness</th>\n",
       "      <th>speechiness</th>\n",
       "      <th>acousticness</th>\n",
       "      <th>instrumentalness</th>\n",
       "      <th>liveness</th>\n",
       "      <th>valence</th>\n",
       "      <th>tempo</th>\n",
       "      <th>duration_ms</th>\n",
       "    </tr>\n",
       "  </thead>\n",
       "  <tbody>\n",
       "    <tr>\n",
       "      <th>mean</th>\n",
       "      <td>0.560969</td>\n",
       "      <td>0.336998</td>\n",
       "      <td>-13.655571</td>\n",
       "      <td>0.056677</td>\n",
       "      <td>0.686348</td>\n",
       "      <td>0.239723</td>\n",
       "      <td>0.161261</td>\n",
       "      <td>0.511934</td>\n",
       "      <td>111.943687</td>\n",
       "      <td>195616.546012</td>\n",
       "    </tr>\n",
       "  </tbody>\n",
       "</table>\n",
       "</div>"
      ],
      "text/plain": [
       "      danceability    energy   loudness  speechiness  acousticness  \\\n",
       "mean      0.560969  0.336998 -13.655571     0.056677      0.686348   \n",
       "\n",
       "      instrumentalness  liveness   valence       tempo    duration_ms  \n",
       "mean          0.239723  0.161261  0.511934  111.943687  195616.546012  "
      ]
     },
     "execution_count": 26,
     "metadata": {},
     "output_type": "execute_result"
    }
   ],
   "source": [
    "C2_means=pd.DataFrame(C2_songs.describe())\n",
    "C2_means.drop(columns=\"cluster\", inplace=True)\n",
    "cluster_2_means=C2_means.iloc[1:2:1]\n",
    "cluster_2_means"
   ]
  },
  {
   "cell_type": "code",
   "execution_count": 27,
   "metadata": {},
   "outputs": [
    {
     "data": {
      "text/html": [
       "<div>\n",
       "<style scoped>\n",
       "    .dataframe tbody tr th:only-of-type {\n",
       "        vertical-align: middle;\n",
       "    }\n",
       "\n",
       "    .dataframe tbody tr th {\n",
       "        vertical-align: top;\n",
       "    }\n",
       "\n",
       "    .dataframe thead th {\n",
       "        text-align: right;\n",
       "    }\n",
       "</style>\n",
       "<table border=\"1\" class=\"dataframe\">\n",
       "  <thead>\n",
       "    <tr style=\"text-align: right;\">\n",
       "      <th></th>\n",
       "      <th>danceability</th>\n",
       "      <th>energy</th>\n",
       "      <th>loudness</th>\n",
       "      <th>speechiness</th>\n",
       "      <th>acousticness</th>\n",
       "      <th>instrumentalness</th>\n",
       "      <th>liveness</th>\n",
       "      <th>valence</th>\n",
       "      <th>tempo</th>\n",
       "      <th>duration_ms</th>\n",
       "    </tr>\n",
       "  </thead>\n",
       "  <tbody>\n",
       "    <tr>\n",
       "      <th>mean</th>\n",
       "      <td>0.458261</td>\n",
       "      <td>0.823358</td>\n",
       "      <td>-5.978772</td>\n",
       "      <td>0.084046</td>\n",
       "      <td>0.053493</td>\n",
       "      <td>0.154218</td>\n",
       "      <td>0.188963</td>\n",
       "      <td>0.392988</td>\n",
       "      <td>142.836199</td>\n",
       "      <td>244505.697068</td>\n",
       "    </tr>\n",
       "  </tbody>\n",
       "</table>\n",
       "</div>"
      ],
      "text/plain": [
       "      danceability    energy  loudness  speechiness  acousticness  \\\n",
       "mean      0.458261  0.823358 -5.978772     0.084046      0.053493   \n",
       "\n",
       "      instrumentalness  liveness   valence       tempo    duration_ms  \n",
       "mean          0.154218  0.188963  0.392988  142.836199  244505.697068  "
      ]
     },
     "execution_count": 27,
     "metadata": {},
     "output_type": "execute_result"
    }
   ],
   "source": [
    "C3_means=pd.DataFrame(C3_songs.describe())\n",
    "C3_means.drop(columns=\"cluster\", inplace=True)\n",
    "cluster_3_means=C3_means.iloc[1:2:1]\n",
    "cluster_3_means"
   ]
  },
  {
   "cell_type": "code",
   "execution_count": 28,
   "metadata": {},
   "outputs": [
    {
     "data": {
      "text/html": [
       "<div>\n",
       "<style scoped>\n",
       "    .dataframe tbody tr th:only-of-type {\n",
       "        vertical-align: middle;\n",
       "    }\n",
       "\n",
       "    .dataframe tbody tr th {\n",
       "        vertical-align: top;\n",
       "    }\n",
       "\n",
       "    .dataframe thead th {\n",
       "        text-align: right;\n",
       "    }\n",
       "</style>\n",
       "<table border=\"1\" class=\"dataframe\">\n",
       "  <thead>\n",
       "    <tr style=\"text-align: right;\">\n",
       "      <th></th>\n",
       "      <th>danceability</th>\n",
       "      <th>energy</th>\n",
       "      <th>loudness</th>\n",
       "      <th>speechiness</th>\n",
       "      <th>acousticness</th>\n",
       "      <th>instrumentalness</th>\n",
       "      <th>liveness</th>\n",
       "      <th>valence</th>\n",
       "      <th>tempo</th>\n",
       "      <th>duration_ms</th>\n",
       "    </tr>\n",
       "  </thead>\n",
       "  <tbody>\n",
       "    <tr>\n",
       "      <th>mean</th>\n",
       "      <td>0.196729</td>\n",
       "      <td>0.152574</td>\n",
       "      <td>-20.530232</td>\n",
       "      <td>0.041275</td>\n",
       "      <td>0.872437</td>\n",
       "      <td>0.65886</td>\n",
       "      <td>0.151614</td>\n",
       "      <td>0.100532</td>\n",
       "      <td>92.112536</td>\n",
       "      <td>476834.696429</td>\n",
       "    </tr>\n",
       "  </tbody>\n",
       "</table>\n",
       "</div>"
      ],
      "text/plain": [
       "      danceability    energy   loudness  speechiness  acousticness  \\\n",
       "mean      0.196729  0.152574 -20.530232     0.041275      0.872437   \n",
       "\n",
       "      instrumentalness  liveness   valence      tempo    duration_ms  \n",
       "mean           0.65886  0.151614  0.100532  92.112536  476834.696429  "
      ]
     },
     "execution_count": 28,
     "metadata": {},
     "output_type": "execute_result"
    }
   ],
   "source": [
    "C4_means=pd.DataFrame(C4_songs.describe())\n",
    "C4_means.drop(columns=\"cluster\", inplace=True)\n",
    "cluster_4_means=C4_means.iloc[1:2:1]\n",
    "cluster_4_means"
   ]
  },
  {
   "cell_type": "code",
   "execution_count": 29,
   "metadata": {},
   "outputs": [
    {
     "data": {
      "text/html": [
       "<div>\n",
       "<style scoped>\n",
       "    .dataframe tbody tr th:only-of-type {\n",
       "        vertical-align: middle;\n",
       "    }\n",
       "\n",
       "    .dataframe tbody tr th {\n",
       "        vertical-align: top;\n",
       "    }\n",
       "\n",
       "    .dataframe thead th {\n",
       "        text-align: right;\n",
       "    }\n",
       "</style>\n",
       "<table border=\"1\" class=\"dataframe\">\n",
       "  <thead>\n",
       "    <tr style=\"text-align: right;\">\n",
       "      <th></th>\n",
       "      <th>danceability</th>\n",
       "      <th>energy</th>\n",
       "      <th>loudness</th>\n",
       "      <th>speechiness</th>\n",
       "      <th>acousticness</th>\n",
       "      <th>instrumentalness</th>\n",
       "      <th>liveness</th>\n",
       "      <th>valence</th>\n",
       "      <th>tempo</th>\n",
       "      <th>duration_ms</th>\n",
       "    </tr>\n",
       "  </thead>\n",
       "  <tbody>\n",
       "    <tr>\n",
       "      <th>mean</th>\n",
       "      <td>0.697404</td>\n",
       "      <td>0.67833</td>\n",
       "      <td>-7.187163</td>\n",
       "      <td>0.338865</td>\n",
       "      <td>0.21077</td>\n",
       "      <td>0.03528</td>\n",
       "      <td>0.267184</td>\n",
       "      <td>0.566907</td>\n",
       "      <td>113.682231</td>\n",
       "      <td>225784.076923</td>\n",
       "    </tr>\n",
       "  </tbody>\n",
       "</table>\n",
       "</div>"
      ],
      "text/plain": [
       "      danceability   energy  loudness  speechiness  acousticness  \\\n",
       "mean      0.697404  0.67833 -7.187163     0.338865       0.21077   \n",
       "\n",
       "      instrumentalness  liveness   valence       tempo    duration_ms  \n",
       "mean           0.03528  0.267184  0.566907  113.682231  225784.076923  "
      ]
     },
     "execution_count": 29,
     "metadata": {},
     "output_type": "execute_result"
    }
   ],
   "source": [
    "C5_means=pd.DataFrame(C5_songs.describe())\n",
    "C5_means.drop(columns=\"cluster\", inplace=True)\n",
    "cluster_5_means=C5_means.iloc[1:2:1]\n",
    "cluster_5_means"
   ]
  },
  {
   "cell_type": "code",
   "execution_count": 30,
   "metadata": {},
   "outputs": [
    {
     "data": {
      "text/html": [
       "<div>\n",
       "<style scoped>\n",
       "    .dataframe tbody tr th:only-of-type {\n",
       "        vertical-align: middle;\n",
       "    }\n",
       "\n",
       "    .dataframe tbody tr th {\n",
       "        vertical-align: top;\n",
       "    }\n",
       "\n",
       "    .dataframe thead th {\n",
       "        text-align: right;\n",
       "    }\n",
       "</style>\n",
       "<table border=\"1\" class=\"dataframe\">\n",
       "  <thead>\n",
       "    <tr style=\"text-align: right;\">\n",
       "      <th></th>\n",
       "      <th>danceability</th>\n",
       "      <th>energy</th>\n",
       "      <th>loudness</th>\n",
       "      <th>speechiness</th>\n",
       "      <th>acousticness</th>\n",
       "      <th>instrumentalness</th>\n",
       "      <th>liveness</th>\n",
       "      <th>valence</th>\n",
       "      <th>tempo</th>\n",
       "      <th>duration_ms</th>\n",
       "    </tr>\n",
       "  </thead>\n",
       "  <tbody>\n",
       "    <tr>\n",
       "      <th>0</th>\n",
       "      <td>0.668127</td>\n",
       "      <td>0.730795</td>\n",
       "      <td>-6.483150</td>\n",
       "      <td>0.066071</td>\n",
       "      <td>0.131869</td>\n",
       "      <td>0.034709</td>\n",
       "      <td>0.158809</td>\n",
       "      <td>0.655940</td>\n",
       "      <td>113.202420</td>\n",
       "      <td>238577.217500</td>\n",
       "    </tr>\n",
       "    <tr>\n",
       "      <th>1</th>\n",
       "      <td>0.396115</td>\n",
       "      <td>0.696361</td>\n",
       "      <td>-9.168508</td>\n",
       "      <td>0.092802</td>\n",
       "      <td>0.271684</td>\n",
       "      <td>0.111098</td>\n",
       "      <td>0.790344</td>\n",
       "      <td>0.351956</td>\n",
       "      <td>121.203066</td>\n",
       "      <td>266726.344262</td>\n",
       "    </tr>\n",
       "    <tr>\n",
       "      <th>2</th>\n",
       "      <td>0.560969</td>\n",
       "      <td>0.336998</td>\n",
       "      <td>-13.655571</td>\n",
       "      <td>0.056677</td>\n",
       "      <td>0.686348</td>\n",
       "      <td>0.239723</td>\n",
       "      <td>0.161261</td>\n",
       "      <td>0.511934</td>\n",
       "      <td>111.943687</td>\n",
       "      <td>195616.546012</td>\n",
       "    </tr>\n",
       "    <tr>\n",
       "      <th>3</th>\n",
       "      <td>0.458261</td>\n",
       "      <td>0.823358</td>\n",
       "      <td>-5.978772</td>\n",
       "      <td>0.084046</td>\n",
       "      <td>0.053493</td>\n",
       "      <td>0.154218</td>\n",
       "      <td>0.188963</td>\n",
       "      <td>0.392988</td>\n",
       "      <td>142.836199</td>\n",
       "      <td>244505.697068</td>\n",
       "    </tr>\n",
       "    <tr>\n",
       "      <th>4</th>\n",
       "      <td>0.196729</td>\n",
       "      <td>0.152574</td>\n",
       "      <td>-20.530232</td>\n",
       "      <td>0.041275</td>\n",
       "      <td>0.872437</td>\n",
       "      <td>0.658860</td>\n",
       "      <td>0.151614</td>\n",
       "      <td>0.100532</td>\n",
       "      <td>92.112536</td>\n",
       "      <td>476834.696429</td>\n",
       "    </tr>\n",
       "    <tr>\n",
       "      <th>5</th>\n",
       "      <td>0.697404</td>\n",
       "      <td>0.678330</td>\n",
       "      <td>-7.187163</td>\n",
       "      <td>0.338865</td>\n",
       "      <td>0.210770</td>\n",
       "      <td>0.035280</td>\n",
       "      <td>0.267184</td>\n",
       "      <td>0.566907</td>\n",
       "      <td>113.682231</td>\n",
       "      <td>225784.076923</td>\n",
       "    </tr>\n",
       "  </tbody>\n",
       "</table>\n",
       "</div>"
      ],
      "text/plain": [
       "   danceability    energy   loudness  speechiness  acousticness  \\\n",
       "0      0.668127  0.730795  -6.483150     0.066071      0.131869   \n",
       "1      0.396115  0.696361  -9.168508     0.092802      0.271684   \n",
       "2      0.560969  0.336998 -13.655571     0.056677      0.686348   \n",
       "3      0.458261  0.823358  -5.978772     0.084046      0.053493   \n",
       "4      0.196729  0.152574 -20.530232     0.041275      0.872437   \n",
       "5      0.697404  0.678330  -7.187163     0.338865      0.210770   \n",
       "\n",
       "   instrumentalness  liveness   valence       tempo    duration_ms  \n",
       "0          0.034709  0.158809  0.655940  113.202420  238577.217500  \n",
       "1          0.111098  0.790344  0.351956  121.203066  266726.344262  \n",
       "2          0.239723  0.161261  0.511934  111.943687  195616.546012  \n",
       "3          0.154218  0.188963  0.392988  142.836199  244505.697068  \n",
       "4          0.658860  0.151614  0.100532   92.112536  476834.696429  \n",
       "5          0.035280  0.267184  0.566907  113.682231  225784.076923  "
      ]
     },
     "execution_count": 30,
     "metadata": {},
     "output_type": "execute_result"
    }
   ],
   "source": [
    "cluster_means_all= pd.concat([cluster_0_means, cluster_1_means, cluster_2_means, cluster_3_means, cluster_4_means, cluster_5_means])\n",
    "cluster_means_all.reset_index(inplace=True)\n",
    "cluster_means_all.drop(columns=\"index\", inplace=True)\n",
    "cluster_means_all"
   ]
  },
  {
   "cell_type": "code",
   "execution_count": 31,
   "metadata": {},
   "outputs": [],
   "source": [
    "cluster_means_all.to_csv(\"cluster_means_all.csv\", sep=';', index=False)"
   ]
  },
  {
   "attachments": {},
   "cell_type": "markdown",
   "metadata": {},
   "source": [
    "## get the input & compare"
   ]
  },
  {
   "cell_type": "code",
   "execution_count": 32,
   "metadata": {},
   "outputs": [
    {
     "data": {
      "text/html": [
       "<div>\n",
       "<style scoped>\n",
       "    .dataframe tbody tr th:only-of-type {\n",
       "        vertical-align: middle;\n",
       "    }\n",
       "\n",
       "    .dataframe tbody tr th {\n",
       "        vertical-align: top;\n",
       "    }\n",
       "\n",
       "    .dataframe thead th {\n",
       "        text-align: right;\n",
       "    }\n",
       "</style>\n",
       "<table border=\"1\" class=\"dataframe\">\n",
       "  <thead>\n",
       "    <tr style=\"text-align: right;\">\n",
       "      <th></th>\n",
       "      <th>danceability</th>\n",
       "      <th>energy</th>\n",
       "      <th>loudness</th>\n",
       "      <th>speechiness</th>\n",
       "      <th>acousticness</th>\n",
       "      <th>instrumentalness</th>\n",
       "      <th>liveness</th>\n",
       "      <th>valence</th>\n",
       "      <th>tempo</th>\n",
       "      <th>duration_ms</th>\n",
       "    </tr>\n",
       "  </thead>\n",
       "  <tbody>\n",
       "    <tr>\n",
       "      <th>0</th>\n",
       "      <td>0.668127</td>\n",
       "      <td>0.730795</td>\n",
       "      <td>-6.483150</td>\n",
       "      <td>0.066071</td>\n",
       "      <td>0.131869</td>\n",
       "      <td>0.034709</td>\n",
       "      <td>0.158809</td>\n",
       "      <td>0.655940</td>\n",
       "      <td>113.202420</td>\n",
       "      <td>238577.217500</td>\n",
       "    </tr>\n",
       "    <tr>\n",
       "      <th>1</th>\n",
       "      <td>0.396115</td>\n",
       "      <td>0.696361</td>\n",
       "      <td>-9.168508</td>\n",
       "      <td>0.092802</td>\n",
       "      <td>0.271684</td>\n",
       "      <td>0.111098</td>\n",
       "      <td>0.790344</td>\n",
       "      <td>0.351956</td>\n",
       "      <td>121.203066</td>\n",
       "      <td>266726.344262</td>\n",
       "    </tr>\n",
       "    <tr>\n",
       "      <th>2</th>\n",
       "      <td>0.560969</td>\n",
       "      <td>0.336998</td>\n",
       "      <td>-13.655571</td>\n",
       "      <td>0.056677</td>\n",
       "      <td>0.686348</td>\n",
       "      <td>0.239723</td>\n",
       "      <td>0.161261</td>\n",
       "      <td>0.511934</td>\n",
       "      <td>111.943687</td>\n",
       "      <td>195616.546012</td>\n",
       "    </tr>\n",
       "    <tr>\n",
       "      <th>3</th>\n",
       "      <td>0.458261</td>\n",
       "      <td>0.823358</td>\n",
       "      <td>-5.978772</td>\n",
       "      <td>0.084046</td>\n",
       "      <td>0.053493</td>\n",
       "      <td>0.154218</td>\n",
       "      <td>0.188963</td>\n",
       "      <td>0.392988</td>\n",
       "      <td>142.836199</td>\n",
       "      <td>244505.697068</td>\n",
       "    </tr>\n",
       "    <tr>\n",
       "      <th>4</th>\n",
       "      <td>0.196729</td>\n",
       "      <td>0.152574</td>\n",
       "      <td>-20.530232</td>\n",
       "      <td>0.041275</td>\n",
       "      <td>0.872437</td>\n",
       "      <td>0.658860</td>\n",
       "      <td>0.151614</td>\n",
       "      <td>0.100532</td>\n",
       "      <td>92.112536</td>\n",
       "      <td>476834.696429</td>\n",
       "    </tr>\n",
       "    <tr>\n",
       "      <th>5</th>\n",
       "      <td>0.697404</td>\n",
       "      <td>0.678330</td>\n",
       "      <td>-7.187163</td>\n",
       "      <td>0.338865</td>\n",
       "      <td>0.210770</td>\n",
       "      <td>0.035280</td>\n",
       "      <td>0.267184</td>\n",
       "      <td>0.566907</td>\n",
       "      <td>113.682231</td>\n",
       "      <td>225784.076923</td>\n",
       "    </tr>\n",
       "  </tbody>\n",
       "</table>\n",
       "</div>"
      ],
      "text/plain": [
       "   danceability    energy   loudness  speechiness  acousticness  \\\n",
       "0      0.668127  0.730795  -6.483150     0.066071      0.131869   \n",
       "1      0.396115  0.696361  -9.168508     0.092802      0.271684   \n",
       "2      0.560969  0.336998 -13.655571     0.056677      0.686348   \n",
       "3      0.458261  0.823358  -5.978772     0.084046      0.053493   \n",
       "4      0.196729  0.152574 -20.530232     0.041275      0.872437   \n",
       "5      0.697404  0.678330  -7.187163     0.338865      0.210770   \n",
       "\n",
       "   instrumentalness  liveness   valence       tempo    duration_ms  \n",
       "0          0.034709  0.158809  0.655940  113.202420  238577.217500  \n",
       "1          0.111098  0.790344  0.351956  121.203066  266726.344262  \n",
       "2          0.239723  0.161261  0.511934  111.943687  195616.546012  \n",
       "3          0.154218  0.188963  0.392988  142.836199  244505.697068  \n",
       "4          0.658860  0.151614  0.100532   92.112536  476834.696429  \n",
       "5          0.035280  0.267184  0.566907  113.682231  225784.076923  "
      ]
     },
     "execution_count": 32,
     "metadata": {},
     "output_type": "execute_result"
    }
   ],
   "source": [
    "# finally we will compare the input song to the means of the different clusters and pick the one with the lowest difference to return a song. \n",
    "table_to_norm=pd.read_csv(\"cluster_means_all.csv\", sep=';')\n",
    "table_to_norm"
   ]
  },
  {
   "cell_type": "code",
   "execution_count": 33,
   "metadata": {},
   "outputs": [],
   "source": [
    "from IPython.display import IFrame\n",
    "def play_song(track_id):\n",
    "    return IFrame(src=\"https://open.spotify.com/embed/track/\" + track_id,\n",
    "                  width=\"320\",\n",
    "                  height=\"80\",\n",
    "                  frameborder=\"0\",\n",
    "                  allowtransparency=\"true\",\n",
    "                  allow=\"encrypted-media\"\n",
    "                 )\n",
    "\n",
    "def input_track():\n",
    "    user_track = input('Enter a track name: ')\n",
    "    result = sp.search(q=user_track, limit=10)\n",
    "    track_id = result['tracks']['items'][0]['id']\n",
    "    song_iframe = play_song(track_id)\n",
    "    display(song_iframe)\n",
    "    track_features = pd.DataFrame(sp.audio_features(track_id))\n",
    "    track_features.drop(columns=['id', 'analysis_url', 'track_href', 'uri', 'type'], axis=1, inplace=True)\n",
    "    return track_features"
   ]
  },
  {
   "cell_type": "code",
   "execution_count": 34,
   "metadata": {},
   "outputs": [
    {
     "data": {
      "text/html": [
       "\n",
       "        <iframe\n",
       "            width=\"320\"\n",
       "            height=\"80\"\n",
       "            src=\"https://open.spotify.com/embed/track/4s6LhHAV5SEsOV0lC2tjvJ?frameborder=0&allowtransparency=true&allow=encrypted-media\"\n",
       "            frameborder=\"0\"\n",
       "            allowfullscreen\n",
       "            \n",
       "        ></iframe>\n",
       "        "
      ],
      "text/plain": [
       "<IPython.lib.display.IFrame at 0x13cc83910>"
      ]
     },
     "metadata": {},
     "output_type": "display_data"
    }
   ],
   "source": [
    "new_song2=input_track()"
   ]
  },
  {
   "cell_type": "code",
   "execution_count": 35,
   "metadata": {},
   "outputs": [
    {
     "data": {
      "text/html": [
       "<div>\n",
       "<style scoped>\n",
       "    .dataframe tbody tr th:only-of-type {\n",
       "        vertical-align: middle;\n",
       "    }\n",
       "\n",
       "    .dataframe tbody tr th {\n",
       "        vertical-align: top;\n",
       "    }\n",
       "\n",
       "    .dataframe thead th {\n",
       "        text-align: right;\n",
       "    }\n",
       "</style>\n",
       "<table border=\"1\" class=\"dataframe\">\n",
       "  <thead>\n",
       "    <tr style=\"text-align: right;\">\n",
       "      <th></th>\n",
       "      <th>danceability</th>\n",
       "      <th>energy</th>\n",
       "      <th>key</th>\n",
       "      <th>loudness</th>\n",
       "      <th>mode</th>\n",
       "      <th>speechiness</th>\n",
       "      <th>acousticness</th>\n",
       "      <th>instrumentalness</th>\n",
       "      <th>liveness</th>\n",
       "      <th>valence</th>\n",
       "      <th>tempo</th>\n",
       "      <th>duration_ms</th>\n",
       "      <th>time_signature</th>\n",
       "    </tr>\n",
       "  </thead>\n",
       "  <tbody>\n",
       "    <tr>\n",
       "      <th>0</th>\n",
       "      <td>0.552</td>\n",
       "      <td>0.608</td>\n",
       "      <td>1</td>\n",
       "      <td>-9.786</td>\n",
       "      <td>0</td>\n",
       "      <td>0.0345</td>\n",
       "      <td>0.352</td>\n",
       "      <td>0</td>\n",
       "      <td>0.0533</td>\n",
       "      <td>0.637</td>\n",
       "      <td>112.367</td>\n",
       "      <td>162373</td>\n",
       "      <td>4</td>\n",
       "    </tr>\n",
       "  </tbody>\n",
       "</table>\n",
       "</div>"
      ],
      "text/plain": [
       "   danceability  energy  key  loudness  mode  speechiness  acousticness  \\\n",
       "0         0.552   0.608    1    -9.786     0       0.0345         0.352   \n",
       "\n",
       "   instrumentalness  liveness  valence    tempo  duration_ms  time_signature  \n",
       "0                 0    0.0533    0.637  112.367       162373               4  "
      ]
     },
     "execution_count": 35,
     "metadata": {},
     "output_type": "execute_result"
    }
   ],
   "source": [
    "new_song2"
   ]
  },
  {
   "cell_type": "code",
   "execution_count": 36,
   "metadata": {},
   "outputs": [
    {
     "data": {
      "text/plain": [
       "array([[ 1.02769854,  0.69829364,  0.81812016, -0.36460354, -0.84780333,\n",
       "        -0.66983627, -0.41536234,  1.08494078, -0.15315353, -0.21206835,\n",
       "                nan,         nan,         nan],\n",
       "       [-0.67791492,  0.54375377,  0.25700711, -0.09359843, -0.34660138,\n",
       "        -0.30837717,  2.36756241, -0.59489308,  0.42133919,  0.08560688,\n",
       "                nan,         nan,         nan],\n",
       "       [ 0.35577993, -1.06905263, -0.68057703, -0.45984999,  1.1398674 ,\n",
       "         0.30024657, -0.40455471,  0.28915762, -0.24353785, -0.66637473,\n",
       "                nan,         nan,         nan],\n",
       "       [-0.28823918,  1.11371384,  0.92351134, -0.1823712 , -1.12876187,\n",
       "        -0.10434392, -0.28248519, -0.36814682,  1.97472353, -0.14937506,\n",
       "                nan,         nan,         nan],\n",
       "       [-1.92813485, -1.8967356 , -2.11705665, -0.61599945,  1.80695019,\n",
       "         2.28351594, -0.44706547, -1.98427379, -1.66752946,  2.30748939,\n",
       "                nan,         nan,         nan],\n",
       "       [ 1.2112713 ,  0.46283209,  0.67101459,  2.40111015, -0.56496252,\n",
       "        -0.66713483,  0.06220257,  0.592938  , -0.11870034, -0.347355  ,\n",
       "                nan,         nan,         nan],\n",
       "       [ 0.29953918,  0.14719489,  0.12798048, -0.68468754, -0.05868849,\n",
       "        -0.83407032, -0.88029726,  0.98027729, -0.21314153, -1.01792313,\n",
       "         0.        ,  0.        ,  0.        ]])"
      ]
     },
     "execution_count": 36,
     "metadata": {},
     "output_type": "execute_result"
    }
   ],
   "source": [
    "calculation= pd.concat([table_to_norm, new_song2])\n",
    "measures_for_song= scaler.fit_transform(calculation)\n",
    "measures_for_song"
   ]
  },
  {
   "cell_type": "code",
   "execution_count": 37,
   "metadata": {},
   "outputs": [
    {
     "data": {
      "text/plain": [
       "7"
      ]
     },
     "execution_count": 37,
     "metadata": {},
     "output_type": "execute_result"
    }
   ],
   "source": [
    "len(measures_for_song)"
   ]
  },
  {
   "cell_type": "code",
   "execution_count": 38,
   "metadata": {},
   "outputs": [],
   "source": [
    "def get_cluster():\n",
    "    diff_clusters_dict={}\n",
    "    for i in range (0,len(measures_for_song)-1):\n",
    "        diff_clusters_dict[i]= abs(sum(measures_for_song[6]-measures_for_song[i]))\n",
    "        selected=min(diff_clusters_dict, key=diff_clusters_dict.get)\n",
    "    return selected\n"
   ]
  },
  {
   "cell_type": "code",
   "execution_count": 39,
   "metadata": {},
   "outputs": [
    {
     "data": {
      "text/plain": [
       "0"
      ]
     },
     "execution_count": 39,
     "metadata": {},
     "output_type": "execute_result"
    }
   ],
   "source": [
    "selected_cluster=get_cluster()\n",
    "selected_cluster"
   ]
  },
  {
   "cell_type": "code",
   "execution_count": 40,
   "metadata": {},
   "outputs": [],
   "source": [
    "# get a random song from the cluster identified above and play it. \n",
    "ids_dict={\n",
    "    0:list(C0_songs.index), \n",
    "    1:list(C1_songs.index),\n",
    "    2:list(C2_songs.index),\n",
    "    3:list(C3_songs.index),\n",
    "    4:list(C4_songs.index), \n",
    "    5:list(C5_songs.index)\n",
    "    }"
   ]
  },
  {
   "cell_type": "code",
   "execution_count": 41,
   "metadata": {},
   "outputs": [],
   "source": [
    "import random\n",
    "recommended_track=random.choice(ids_dict[selected_cluster])"
   ]
  },
  {
   "cell_type": "code",
   "execution_count": 42,
   "metadata": {},
   "outputs": [
    {
     "data": {
      "text/html": [
       "\n",
       "        <iframe\n",
       "            width=\"320\"\n",
       "            height=\"80\"\n",
       "            src=\"https://open.spotify.com/embed/track/1XwtIJ37HN5hqLctV5MFqp?frameborder=0&allowtransparency=true&allow=encrypted-media\"\n",
       "            frameborder=\"0\"\n",
       "            allowfullscreen\n",
       "            \n",
       "        ></iframe>\n",
       "        "
      ],
      "text/plain": [
       "<IPython.lib.display.IFrame at 0x13cc8f850>"
      ]
     },
     "execution_count": 42,
     "metadata": {},
     "output_type": "execute_result"
    }
   ],
   "source": [
    "play_song(recommended_track)"
   ]
  },
  {
   "attachments": {},
   "cell_type": "markdown",
   "metadata": {},
   "source": [
    "### Improvements \n",
    "* add the mode column\n",
    "* do a PCA before the kmeans\n",
    "* identify ideal number of clusters (elbow)\n",
    "* more songs \n",
    "* shorten code :) "
   ]
  },
  {
   "attachments": {},
   "cell_type": "markdown",
   "metadata": {},
   "source": []
  }
 ],
 "metadata": {
  "kernelspec": {
   "display_name": "base",
   "language": "python",
   "name": "python3"
  },
  "language_info": {
   "codemirror_mode": {
    "name": "ipython",
    "version": 3
   },
   "file_extension": ".py",
   "mimetype": "text/x-python",
   "name": "python",
   "nbconvert_exporter": "python",
   "pygments_lexer": "ipython3",
   "version": "3.9.16"
  },
  "orig_nbformat": 4
 },
 "nbformat": 4,
 "nbformat_minor": 2
}
